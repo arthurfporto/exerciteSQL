{
 "cells": [
  {
   "cell_type": "markdown",
   "metadata": {},
   "source": [
    "# SELECT (JOIN)"
   ]
  },
  {
   "cell_type": "markdown",
   "metadata": {},
   "source": [
    "Antes de começar execute os comandos de configuração:"
   ]
  },
  {
   "cell_type": "code",
   "execution_count": null,
   "metadata": {},
   "outputs": [],
   "source": [
    "# NÃO ALTERE ESSA CÉLULA\n",
    "# Carregando o módulo SQL\n",
    "%load_ext sql\n",
    "# Selecionando o Banco (no caso o SQLite)\n",
    "%sql sqlite:///databases/universidade.db"
   ]
  },
  {
   "cell_type": "markdown",
   "metadata": {},
   "source": [
    "_<span style=\"color:red\">Atenção! Para possibilitar a execução dos comandos é necessário utilizar o comando mágico '%sql' ou '%%sql'.</span>_"
   ]
  },
  {
   "cell_type": "markdown",
   "metadata": {},
   "source": [
    "### Observe o seguinte esquema de uma universidade:"
   ]
  },
  {
   "cell_type": "markdown",
   "metadata": {},
   "source": [
    "<b>1. MODELO CONCEITUAL</b>\n",
    "\n",
    "<img src='images/c006.png' style=\"float: left;\" />"
   ]
  },
  {
   "cell_type": "markdown",
   "metadata": {},
   "source": [
    "<b>2. CÓDIGOS SQL</b>\n",
    "- <a href=\"./databases/DDLuniversidade.txt\" target=\"_blank\">DDL</a>\n",
    "- <a href=\"./databases/DMLuniversidade.txt\" target=\"_blank\">DML</a>"
   ]
  },
  {
   "cell_type": "markdown",
   "metadata": {},
   "source": [
    " ### Com base no esquema apresentado acima, escreva o código SQL para recuperar as seguintes informações no bando de dados.\n",
    "\n",
    "##### Use apenas o Join explícito!"
   ]
  },
  {
   "cell_type": "markdown",
   "metadata": {},
   "source": [
    "<b> A) </b> Título dos projetos e nome do coordenador.\n",
    "\n",
    "_Resposta:_"
   ]
  },
  {
   "cell_type": "code",
   "execution_count": null,
   "metadata": {},
   "outputs": [],
   "source": []
  },
  {
   "cell_type": "markdown",
   "metadata": {},
   "source": [
    "<b> B) </b> Nome de todos os estudantes e nome do conselheiro (caso possuam). Apresente o resultado em ordem crescente pelo nome dos estudantes _Obs.: Utilize o 'ALIAS' para facilitar a identificação do conselheiro e aconselhado_.\n",
    "\n",
    "_Resposta:_"
   ]
  },
  {
   "cell_type": "code",
   "execution_count": null,
   "metadata": {},
   "outputs": [],
   "source": []
  },
  {
   "cell_type": "markdown",
   "metadata": {},
   "source": [
    "<b> C) </b> Nome dos professores, em ordem alfabética, que não são coordenadores de projeto.\n",
    "\n",
    "\n",
    "_Resposta:_"
   ]
  },
  {
   "cell_type": "code",
   "execution_count": null,
   "metadata": {},
   "outputs": [],
   "source": []
  },
  {
   "cell_type": "markdown",
   "metadata": {},
   "source": [
    "<b> D) </b> Nome do curso e título dos projetos que os seus estudantes participam, ordenados pelo nome do curso. _Obs.: Apresente os resultados sem duplicatas_.\n",
    "\n",
    "\n",
    "_Resposta:_"
   ]
  },
  {
   "cell_type": "code",
   "execution_count": null,
   "metadata": {},
   "outputs": [],
   "source": []
  },
  {
   "cell_type": "markdown",
   "metadata": {},
   "source": [
    "<b> E) </b> Nome dos alunos do mesmo curso do estudante 'Ilídio Canedo Tuna', em ordem alfabética. "
   ]
  },
  {
   "cell_type": "code",
   "execution_count": null,
   "metadata": {},
   "outputs": [],
   "source": []
  },
  {
   "cell_type": "markdown",
   "metadata": {},
   "source": [
    "<b> F) </b> Título dos projetos e nome coordenador ordenado pelo título do projeto. "
   ]
  },
  {
   "cell_type": "code",
   "execution_count": null,
   "metadata": {},
   "outputs": [],
   "source": []
  }
 ],
 "metadata": {
  "kernelspec": {
   "display_name": "Python 3",
   "language": "python",
   "name": "python3"
  },
  "language_info": {
   "codemirror_mode": {
    "name": "ipython",
    "version": 3
   },
   "file_extension": ".py",
   "mimetype": "text/x-python",
   "name": "python",
   "nbconvert_exporter": "python",
   "pygments_lexer": "ipython3",
   "version": "3.7.0"
  }
 },
 "nbformat": 4,
 "nbformat_minor": 2
}
